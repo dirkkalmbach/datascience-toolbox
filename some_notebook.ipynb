{
  "cells": [
    {
      "cell_type": "raw",
      "id": "d2b0cab5",
      "metadata": {},
      "source": [
        "---\n",
        "title: Quarto Basics\n",
        "format:\n",
        "  html:\n",
        "    code-fold: true\n",
        "---"
      ]
    },
    {
      "cell_type": "markdown",
      "id": "e3459d19",
      "metadata": {},
      "source": [
        "For a demonstration of a line plot on a polar axis, see @fig-polar.\n"
      ]
    },
    {
      "cell_type": "code",
      "execution_count": null,
      "id": "fig-polar",
      "metadata": {},
      "outputs": [],
      "source": [
        "#| label: fig-polar\n",
        "#| fig-cap: A line plot on a polar axis\n",
        "\n",
        "import numpy as np\n",
        "import matplotlib.pyplot as plt\n",
        "\n",
        "r = np.arange(0, 2, 0.01)\n",
        "#theta = 2 * np.pi * r\n",
        "theta = 4 * np.pi * r\n",
        "fig, ax = plt.subplots(\n",
        "  subplot_kw = {'projection': 'polar'} \n",
        ")\n",
        "ax.plot(theta, r)\n",
        "ax.set_rticks([0.5, 1, 1.5, 2])\n",
        "ax.grid(True)\n",
        "plt.show()"
      ]
    },
    {
      "cell_type": "markdown",
      "id": "c6aa14ec",
      "metadata": {},
      "source": [
        "and next ...\n"
      ]
    }
  ],
  "metadata": {
    "kernelspec": {
      "display_name": "Python 3.9.7 ('DataScience')",
      "language": "python",
      "name": "python3"
    },
    "language_info": {
      "name": "python",
      "version": "3.9.7"
    },
    "vscode": {
      "interpreter": {
        "hash": "986da1f377c5d37d5af33c68f40726ffabb39cb34539ecdbd183416bb24c9d76"
      }
    }
  },
  "nbformat": 4,
  "nbformat_minor": 5
}
